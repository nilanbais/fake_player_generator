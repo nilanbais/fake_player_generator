{
 "cells": [
  {
   "cell_type": "code",
   "execution_count": 1,
   "metadata": {},
   "outputs": [],
   "source": [
    "import os\n",
    "import sys\n",
    "\n",
    "import json\n",
    "\n",
    "from pprint import pprint"
   ]
  },
  {
   "cell_type": "code",
   "execution_count": 2,
   "metadata": {},
   "outputs": [],
   "source": [
    "def get_var_project_root():\n",
    "    placeholder = os.getcwd()\n",
    "    keep_going = True\n",
    "    while keep_going:\n",
    "        if placeholder.endswith('fake_player_generator'):\n",
    "            keep_going\n",
    "            return placeholder\n",
    "        placeholder = os.chdir('..')"
   ]
  },
  {
   "cell_type": "code",
   "execution_count": 4,
   "metadata": {},
   "outputs": [],
   "source": [
    "PROJECT_ROOT = get_var_project_root()\n",
    "DATA_FILE_NAME = 'player_data_dybala.json'"
   ]
  },
  {
   "cell_type": "code",
   "execution_count": 5,
   "metadata": {},
   "outputs": [
    {
     "name": "stdout",
     "output_type": "stream",
     "text": [
      "{'playerId': 89186, 'competitionId': 524, 'seasonId': 188160, 'position': 'Attacking Midfielder', 'total.matches': 13, 'total.matchesInStart': 12, 'total.matchesSubstituted': 10, 'total.matchesComingOff': 1, 'total.minutesOnField': 987, 'total.minutesTagged': 987, 'total.goals': 7, 'total.assists': 3, 'total.shots': 33, 'total.headShots': 0, 'total.yellowCards': 2, 'total.redCards': 0, 'total.directRedCards': 0, 'total.penalties': 1, 'total.linkupPlays': 64, 'total.duels': 203, 'total.duelsWon': 92, 'total.defensiveDuels': 34, 'total.defensiveDuelsWon': 5, 'total.offensiveDuels': 121, 'total.offensiveDuelsWon': 72, 'total.aerialDuels': 18, 'total.aerialDuelsWon': 5, 'total.fouls': 7, 'total.passes': 391, 'total.successfulPasses': 335, 'total.smartPasses': 3, 'total.successfulSmartPasses': 2, 'total.passesToFinalThird': 37, 'total.successfulPassesToFinalThird': 34, 'total.crosses': 17, 'total.successfulCrosses': 7, 'total.forwardPasses': 82, 'total.successfulForwardPasses': 63, 'total.backPasses': 85, 'total.successfulBackPasses': 79, 'total.throughPasses': 5, 'total.successfulThroughPasses': 4, 'total.keyPasses': 6, 'total.successfulKeyPasses': 6, 'total.verticalPasses': 144, 'total.successfulVerticalPasses': 124, 'total.longPasses': 34, 'total.successfulLongPasses': 27, 'total.dribbles': 49, 'total.successfulDribbles': 38, 'total.interceptions': 23, 'total.defensiveActions': 64, 'total.successfulDefensiveAction': 46, 'total.attackingActions': 102, 'total.successfulAttackingActions': 55, 'total.freeKicks': 13, 'total.freeKicksOnTarget': 7, 'total.directFreeKicks': 2, 'total.directFreeKicksOnTarget': 0, 'total.corners': 19, 'total.successfulPenalties': 1, 'total.successfulLinkupPlays': 51, 'total.accelerations': 11, 'total.pressingDuels': 60, 'total.pressingDuelsWon': 0, 'total.looseBallDuels': 30, 'total.looseBallDuelsWon': 10, 'total.missedBalls': 6, 'total.shotAssists': 20, 'total.shotOnTargetAssists': 6, 'total.recoveries': 50, 'total.opponentHalfRecoveries': 30, 'total.dangerousOpponentHalfRecoveries': 4, 'total.losses': 118, 'total.ownHalfLosses': 41, 'total.dangerousOwnHalfLosses': 4, 'total.xgShot': 4.72, 'total.xgAssist': 2.9, 'total.xgSave': 0, 'total.receivedPass': 326, 'total.touchInBox': 42, 'total.progressiveRun': 33, 'total.offsides': 1, 'total.clearances': 1, 'total.secondAssists': 0, 'total.thirdAssists': 2, 'total.shotsBlocked': 0, 'total.foulsSuffered': 24, 'total.progressivePasses': 56, 'total.counterpressingRecoveries': 28, 'total.slidingTackles': 7, 'total.goalKicks': 0, 'total.dribblesAgainst': 10, 'total.dribblesAgainstWon': 3, 'total.goalKicksShort': 0, 'total.goalKicksLong': 0, 'total.shotsOnTarget': 12, 'total.successfulProgressivePasses': 45, 'total.successfulSlidingTackles': 4, 'total.successfulGoalKicks': 0, 'total.fieldAerialDuels': 18, 'total.fieldAerialDuelsWon': 5, 'total.gkCleanSheets': 0, 'total.gkConcededGoals': 0, 'total.gkShotsAgainst': 0, 'total.gkExits': 0, 'total.gkSuccessfulExits': 0, 'total.gkAerialDuels': 0, 'total.gkAerialDuelsWon': 0, 'total.gkSaves': 0, 'total.newDuelsWon': 98, 'total.newDefensiveDuelsWon': 16, 'total.newOffensiveDuelsWon': 67, 'total.newSuccessfulDribbles': 34, 'total.lateralPasses': 144, 'total.successfulLateralPasses': 124, 'average.passLength': 17.8, 'average.longPassLength': 34.88, 'average.dribbleDistanceFromOpponentGoal': 26.33, 'average.ballRecoveries': 4.56, 'average.duels': 18.51, 'average.defensiveDuels': 3.1, 'average.offensiveDuels': 11.03, 'average.aerialDuels': 1.6400000000000001, 'average.fouls': 0.64, 'average.goals': 0.64, 'average.assists': 0.27, 'average.passes': 35.65, 'average.smartPasses': 0.27, 'average.passesToFinalThird': 3.37, 'average.crosses': 1.55, 'average.dribbles': 4.47, 'average.shots': 3.01, 'average.headShots': 0, 'average.interceptions': 2.1, 'average.successfulDefensiveAction': 4.19, 'average.yellowCards': 0.18, 'average.redCards': 0, 'average.directRedCards': 0, 'average.successfulAttackingActions': 5.02, 'average.freeKicks': 1.19, 'average.directFreeKicks': 0.18, 'average.corners': 1.73, 'average.penalties': 0.09, 'average.accelerations': 1, 'average.looseBallDuels': 2.74, 'average.missedBalls': 0.55, 'average.forwardPasses': 7.48, 'average.backPasses': 7.75, 'average.throughPasses': 0.46, 'average.keyPasses': 0.55, 'average.verticalPasses': 13.13, 'average.longPasses': 3.1, 'average.shotAssists': 1.8199999999999998, 'average.shotOnTargetAssists': 0.55, 'average.linkupPlays': 5.84, 'average.opponentHalfRecoveries': 2.74, 'average.dangerousOpponentHalfRecoveries': 0.36, 'average.ballLosses': 0, 'average.losses': 10.76, 'average.ownHalfLosses': 3.74, 'average.dangerousOwnHalfLosses': 0.36, 'average.duelsWon': 8.39, 'average.defensiveDuelsWon': 0.46, 'average.offensiveDuelsWon': 6.57, 'average.successfulPasses': 30.55, 'average.successfulSmartPasses': 0.18, 'average.successfulCrosses': 0.64, 'average.successfulForwardPasses': 5.74, 'average.successfulBackPasses': 7.2, 'average.successfulThroughPasses': 0.36, 'average.successfulKeyPasses': 0.55, 'average.successfulVerticalPasses': 11.31, 'average.successfulLongPasses': 2.46, 'average.successfulDribbles': 3.4699999999999998, 'average.defensiveActions': 5.84, 'average.attackingActions': 9.3, 'average.freeKicksOnTarget': 0.64, 'average.directFreeKicksOnTarget': 0, 'average.successfulPenalties': 0.09, 'average.successfulLinkupPlays': 4.65, 'average.looseBallDuelsWon': 0.91, 'average.successfulPassesToFinalThird': 3.1, 'average.xgShot': 0.43, 'average.xgAssist': 0.26, 'average.xgSave': 0, 'average.receivedPass': 29.73, 'average.touchInBox': 3.83, 'average.progressiveRun': 3.01, 'average.offsides': 0.09, 'average.clearances': 0.09, 'average.secondAssists': 0, 'average.thirdAssists': 0.18, 'average.foulsSuffered': 2.19, 'average.progressivePasses': 5.11, 'average.counterpressingRecoveries': 2.55, 'average.slidingTackles': 0.64, 'average.goalKicks': 0, 'average.shotsBlocked': 0, 'average.shotsOnTarget': 1.09, 'average.successfulProgressivePasses': 4.1, 'average.successfulSlidingTackles': 0.36, 'average.successfulGoalKicks': 0, 'average.dribblesAgainst': 0.91, 'average.dribblesAgainstWon': 0.27, 'average.goalKicksShort': 0, 'average.goalKicksLong': 0, 'average.fieldAerialDuels': 1.6400000000000001, 'average.fieldAerialDuelsWon': 0.46, 'average.gkConcededGoals': 0, 'average.gkShotsAgainst': 0, 'average.gkExits': 0, 'average.gkAerialDuels': 0, 'average.gkSaves': 0, 'average.gkSuccessfulExits': 0, 'average.gkAerialDuelsWon': 0, 'average.newDuelsWon': 8.94, 'average.newDefensiveDuelsWon': 1.46, 'average.newOffensiveDuelsWon': 6.11, 'average.newSuccessfulDribbles': 3.1, 'average.lateralPasses': 13.13, 'average.successfulLateralPasses': 11.31, 'percent.duelsWon': 45.32, 'percent.defensiveDuelsWon': 14.71, 'percent.offensiveDuelsWon': 59.5, 'percent.aerialDuelsWon': 27.78, 'percent.successfulPasses': 85.68, 'percent.successfulSmartPasses': 66.67, 'percent.successfulPassesToFinalThird': 91.89, 'percent.successfulCrosses': 41.18, 'percent.successfulDribbles': 77.55, 'percent.shotsOnTarget': 36.36, 'percent.headShotsOnTarget': 0, 'percent.goalConversion': 21.21, 'percent.directFreeKicksOnTarget': 0, 'percent.penaltiesConversion': 100, 'percent.win': 75, 'percent.successfulForwardPasses': 76.83, 'percent.successfulBackPasses': 92.94, 'percent.successfulThroughPasses': 80, 'percent.successfulKeyPasses': 100, 'percent.successfulVerticalPasses': 86.11, 'percent.successfulLongPasses': 79.41, 'percent.successfulShotAssists': 60, 'percent.successfulLinkupPlays': 79.69, 'percent.yellowCardsPerFoul': 28.6, 'percent.successfulProgressivePasses': 80.36, 'percent.successfulSlidingTackles': 57.14, 'percent.successfulGoalKicks': 0, 'percent.dribblesAgainstWon': 30, 'percent.fieldAerialDuelsWon': 27.78, 'percent.gkSaves': 0, 'percent.gkSuccessfulExits': 0, 'percent.gkAerialDuelsWon': 0, 'percent.newDuelsWon': 48.28, 'percent.newDefensiveDuelsWon': 47.06, 'percent.newOffensiveDuelsWon': 55.37, 'percent.newSuccessfulDribbles': 69.39, 'percent.successfulLateralPasses': 86.11}\n"
     ]
    }
   ],
   "source": [
    "with open(os.path.join(PROJECT_ROOT, DATA_FILE_NAME)) as input_file:\n",
    "    INPUT_DATA = json.load(input_file)[0]\n",
    "    print(INPUT_DATA)\n",
    "    "
   ]
  },
  {
   "cell_type": "code",
   "execution_count": 8,
   "metadata": {},
   "outputs": [
    {
     "name": "stdout",
     "output_type": "stream",
     "text": [
      "{'playerId': [None], 'competitionId': [None], 'seasonId': [None], 'position': [None], 'matches': ['total'], 'matchesInStart': ['total'], 'matchesSubstituted': ['total'], 'matchesComingOff': ['total'], 'minutesOnField': ['total'], 'minutesTagged': ['total'], 'goals': ['total', 'average'], 'assists': ['total', 'average'], 'shots': ['total', 'average'], 'headShots': ['total', 'average'], 'yellowCards': ['total', 'average'], 'redCards': ['total', 'average'], 'directRedCards': ['total', 'average'], 'penalties': ['total', 'average'], 'linkupPlays': ['total', 'average'], 'duels': ['total', 'average'], 'duelsWon': ['total', 'average', 'percent'], 'defensiveDuels': ['total', 'average'], 'defensiveDuelsWon': ['total', 'average', 'percent'], 'offensiveDuels': ['total', 'average'], 'offensiveDuelsWon': ['total', 'average', 'percent'], 'aerialDuels': ['total', 'average'], 'aerialDuelsWon': ['total', 'percent'], 'fouls': ['total', 'average'], 'passes': ['total', 'average'], 'successfulPasses': ['total', 'average', 'percent'], 'smartPasses': ['total', 'average'], 'successfulSmartPasses': ['total', 'average', 'percent'], 'passesToFinalThird': ['total', 'average'], 'successfulPassesToFinalThird': ['total', 'average', 'percent'], 'crosses': ['total', 'average'], 'successfulCrosses': ['total', 'average', 'percent'], 'forwardPasses': ['total', 'average'], 'successfulForwardPasses': ['total', 'average', 'percent'], 'backPasses': ['total', 'average'], 'successfulBackPasses': ['total', 'average', 'percent'], 'throughPasses': ['total', 'average'], 'successfulThroughPasses': ['total', 'average', 'percent'], 'keyPasses': ['total', 'average'], 'successfulKeyPasses': ['total', 'average', 'percent'], 'verticalPasses': ['total', 'average'], 'successfulVerticalPasses': ['total', 'average', 'percent'], 'longPasses': ['total', 'average'], 'successfulLongPasses': ['total', 'average', 'percent'], 'dribbles': ['total', 'average'], 'successfulDribbles': ['total', 'average', 'percent'], 'interceptions': ['total', 'average'], 'defensiveActions': ['total', 'average'], 'successfulDefensiveAction': ['total', 'average'], 'attackingActions': ['total', 'average'], 'successfulAttackingActions': ['total', 'average'], 'freeKicks': ['total', 'average'], 'freeKicksOnTarget': ['total', 'average'], 'directFreeKicks': ['total', 'average'], 'directFreeKicksOnTarget': ['total', 'average', 'percent'], 'corners': ['total', 'average'], 'successfulPenalties': ['total', 'average'], 'successfulLinkupPlays': ['total', 'average', 'percent'], 'accelerations': ['total', 'average'], 'pressingDuels': ['total'], 'pressingDuelsWon': ['total'], 'looseBallDuels': ['total', 'average'], 'looseBallDuelsWon': ['total', 'average'], 'missedBalls': ['total', 'average'], 'shotAssists': ['total', 'average'], 'shotOnTargetAssists': ['total', 'average'], 'recoveries': ['total'], 'opponentHalfRecoveries': ['total', 'average'], 'dangerousOpponentHalfRecoveries': ['total', 'average'], 'losses': ['total', 'average'], 'ownHalfLosses': ['total', 'average'], 'dangerousOwnHalfLosses': ['total', 'average'], 'xgShot': ['total', 'average'], 'xgAssist': ['total', 'average'], 'xgSave': ['total', 'average'], 'receivedPass': ['total', 'average'], 'touchInBox': ['total', 'average'], 'progressiveRun': ['total', 'average'], 'offsides': ['total', 'average'], 'clearances': ['total', 'average'], 'secondAssists': ['total', 'average'], 'thirdAssists': ['total', 'average'], 'shotsBlocked': ['total', 'average'], 'foulsSuffered': ['total', 'average'], 'progressivePasses': ['total', 'average'], 'counterpressingRecoveries': ['total', 'average'], 'slidingTackles': ['total', 'average'], 'goalKicks': ['total', 'average'], 'dribblesAgainst': ['total', 'average'], 'dribblesAgainstWon': ['total', 'average', 'percent'], 'goalKicksShort': ['total', 'average'], 'goalKicksLong': ['total', 'average'], 'shotsOnTarget': ['total', 'average', 'percent'], 'successfulProgressivePasses': ['total', 'average', 'percent'], 'successfulSlidingTackles': ['total', 'average', 'percent'], 'successfulGoalKicks': ['total', 'average', 'percent'], 'fieldAerialDuels': ['total', 'average'], 'fieldAerialDuelsWon': ['total', 'average', 'percent'], 'gkCleanSheets': ['total'], 'gkConcededGoals': ['total', 'average'], 'gkShotsAgainst': ['total', 'average'], 'gkExits': ['total', 'average'], 'gkSuccessfulExits': ['total', 'average', 'percent'], 'gkAerialDuels': ['total', 'average'], 'gkAerialDuelsWon': ['total', 'average', 'percent'], 'gkSaves': ['total', 'average', 'percent'], 'newDuelsWon': ['total', 'average', 'percent'], 'newDefensiveDuelsWon': ['total', 'average', 'percent'], 'newOffensiveDuelsWon': ['total', 'average', 'percent'], 'newSuccessfulDribbles': ['total', 'average', 'percent'], 'lateralPasses': ['total', 'average'], 'successfulLateralPasses': ['total', 'average', 'percent'], 'passLength': ['average'], 'longPassLength': ['average'], 'dribbleDistanceFromOpponentGoal': ['average'], 'ballRecoveries': ['average'], 'ballLosses': ['average'], 'headShotsOnTarget': ['percent'], 'goalConversion': ['percent'], 'penaltiesConversion': ['percent'], 'win': ['percent'], 'successfulShotAssists': ['percent'], 'yellowCardsPerFoul': ['percent']}\n",
      "[('playerId', [None]), ('competitionId', [None]), ('seasonId', [None]), ('position', [None]), ('matches', ['total']), ('matchesInStart', ['total']), ('matchesSubstituted', ['total']), ('matchesComingOff', ['total']), ('minutesOnField', ['total']), ('minutesTagged', ['total']), ('pressingDuels', ['total']), ('pressingDuelsWon', ['total']), ('recoveries', ['total']), ('gkCleanSheets', ['total']), ('passLength', ['average']), ('longPassLength', ['average']), ('dribbleDistanceFromOpponentGoal', ['average']), ('ballRecoveries', ['average']), ('ballLosses', ['average']), ('headShotsOnTarget', ['percent']), ('goalConversion', ['percent']), ('penaltiesConversion', ['percent']), ('win', ['percent']), ('successfulShotAssists', ['percent']), ('yellowCardsPerFoul', ['percent'])]\n",
      "{'matches': 1, 'matchesInStart': 1, 'matchesSubstituted': 1, 'matchesComingOff': 1, 'minutesOnField': 1, 'minutesTagged': 1, 'pressingDuels': 1, 'pressingDuelsWon': 1, 'recoveries': 1, 'gkCleanSheets': 1, 'passLength': 1, 'longPassLength': 1, 'dribbleDistanceFromOpponentGoal': 1, 'ballRecoveries': 1, 'ballLosses': 1, 'headShotsOnTarget': 1, 'goalConversion': 1, 'penaltiesConversion': 1, 'win': 1, 'successfulShotAssists': 1, 'yellowCardsPerFoul': 1}\n"
     ]
    }
   ],
   "source": [
    "var_count_table = dict()\n",
    "for name in INPUT_DATA.keys():\n",
    "    if '.' in name:\n",
    "        group, var_name = name.split('.')\n",
    "\n",
    "    else:\n",
    "        group, var_name = None, name\n",
    "    \n",
    "\n",
    "    if var_name not in var_count_table.keys():\n",
    "        var_count_table[var_name] = [group]\n",
    "    elif var_name in var_count_table.keys():\n",
    "        if group not in var_count_table[var_name]:\n",
    "            var_count_table[var_name].append(group)\n",
    "\n",
    "print(var_count_table)\n",
    "\n",
    "unique_vars = [(key, value) for key, value in var_count_table.items() if len(value) == 1]\n",
    "print(unique_vars)\n",
    "\n",
    "mentions = {key: len(value) for key, value in var_count_table.items() if len(value) == 1 and value[0] != None}\n",
    "print(mentions)"
   ]
  }
 ],
 "metadata": {
  "kernelspec": {
   "display_name": "Python 3",
   "language": "python",
   "name": "python3"
  },
  "language_info": {
   "codemirror_mode": {
    "name": "ipython",
    "version": 3
   },
   "file_extension": ".py",
   "mimetype": "text/x-python",
   "name": "python",
   "nbconvert_exporter": "python",
   "pygments_lexer": "ipython3",
   "version": "3.10.5"
  },
  "orig_nbformat": 4,
  "vscode": {
   "interpreter": {
    "hash": "369f2c481f4da34e4445cda3fffd2e751bd1c4d706f27375911949ba6bb62e1c"
   }
  }
 },
 "nbformat": 4,
 "nbformat_minor": 2
}
